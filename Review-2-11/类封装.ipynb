{
 "cells": [
  {
   "cell_type": "markdown",
   "id": "2b96af7d",
   "metadata": {},
   "source": [
    "# 类的学习"
   ]
  },
  {
   "cell_type": "code",
   "execution_count": 2,
   "id": "7e6a5acb",
   "metadata": {},
   "outputs": [
    {
     "data": {
      "text/plain": [
       "<__main__.MyClass at 0x1b3a7ba7100>"
      ]
     },
     "execution_count": 2,
     "metadata": {},
     "output_type": "execute_result"
    }
   ],
   "source": [
    "class MyClass():\n",
    "    pass\n",
    "m = MyClass()      #创建类的实例，类的类型其实也是一个对象。创建的对象，类型是类。"
   ]
  },
  {
   "cell_type": "code",
   "execution_count": 26,
   "id": "511f3fd0",
   "metadata": {},
   "outputs": [
    {
     "name": "stdout",
     "output_type": "stream",
     "text": [
      "hello,yu\n",
      "yu\n"
     ]
    }
   ],
   "source": [
    "#类有 属性（数据）和行为（方法）\n",
    "#在类的实例中调用函数叫做方法，方法调用默认传递一个参数，所以方法中至少要定义一个形参\n",
    "class Person:\n",
    "    hight = 100\n",
    "    def dd(self):    #  形式参数都是调用实例对象自己        \n",
    "        print('hello,%s'%self.name)      \n",
    "p1 = Person()\n",
    "p1.name = 'yu'\n",
    "p1.dd()"
   ]
  },
  {
   "cell_type": "code",
   "execution_count": 28,
   "id": "14031bf6",
   "metadata": {},
   "outputs": [],
   "source": [
    "class Person:\n",
    "    hight = 180    # 类定义的属性（方法）是公共的，储存在类对象中，他的实例对象都具。\n",
    "p1 = Person()\n",
    "p2 = Person()\n",
    "p1.name = 'yu'    #如果是实例独有的，则保存到实例对象的内存中"
   ]
  },
  {
   "cell_type": "code",
   "execution_count": 21,
   "id": "f995e940",
   "metadata": {},
   "outputs": [],
   "source": [
    "class Student:\n",
    "    def __init__(self,name,age):   # __init__是一个特殊方法用于在创建对象时进行初始化操作，直接在实例中输入\n",
    "        self.name = name \n",
    "        self.age = age\n",
    "    def study(self,course_name):\n",
    "        print('%s正在学习%s'%(self.name,course_name))\n",
    "    def match_movie(self):\n",
    "        if self.age < 18:\n",
    "            print('%s只能看动画片'%self.name)\n",
    "        else:\n",
    "            print('%s拥有全部权限，所以类型片任意看'%self.name)"
   ]
  },
  {
   "cell_type": "code",
   "execution_count": 22,
   "id": "0a7dde65",
   "metadata": {},
   "outputs": [
    {
     "name": "stdout",
     "output_type": "stream",
     "text": [
      "喻卓正在学习python\n",
      "喻卓拥有全部权限，所以类型片任意看\n"
     ]
    }
   ],
   "source": [
    "def main():\n",
    "    s1 = Student('喻卓',25)\n",
    "    s1.study('python')\n",
    "    s1.match_movie()\n",
    "main()"
   ]
  },
  {
   "cell_type": "code",
   "execution_count": 25,
   "id": "2bae988e",
   "metadata": {},
   "outputs": [],
   "source": [
    "from time import sleep"
   ]
  },
  {
   "cell_type": "code",
   "execution_count": 34,
   "id": "b80a7ce2",
   "metadata": {},
   "outputs": [
    {
     "name": "stdout",
     "output_type": "stream",
     "text": [
      "22:34:45\n",
      "22:34:46\n",
      "22:34:47\n",
      "22:34:48\n",
      "22:34:49\n",
      "22:34:50\n"
     ]
    },
    {
     "ename": "KeyboardInterrupt",
     "evalue": "",
     "output_type": "error",
     "traceback": [
      "\u001b[1;31m---------------------------------------------------------------------------\u001b[0m",
      "\u001b[1;31mKeyboardInterrupt\u001b[0m                         Traceback (most recent call last)",
      "Input \u001b[1;32mIn [34]\u001b[0m, in \u001b[0;36m<module>\u001b[1;34m\u001b[0m\n\u001b[0;32m     22\u001b[0m         sleep(\u001b[38;5;241m1\u001b[39m)  \u001b[38;5;66;03m#1秒执行一次执行\u001b[39;00m\n\u001b[0;32m     23\u001b[0m         clock\u001b[38;5;241m.\u001b[39mrun()\n\u001b[1;32m---> 24\u001b[0m \u001b[38;5;28;43mmin\u001b[39;49m\u001b[43m(\u001b[49m\u001b[43m)\u001b[49m\n",
      "Input \u001b[1;32mIn [34]\u001b[0m, in \u001b[0;36mmin\u001b[1;34m()\u001b[0m\n\u001b[0;32m     20\u001b[0m \u001b[38;5;28;01mwhile\u001b[39;00m \u001b[38;5;28;01mTrue\u001b[39;00m:\n\u001b[0;32m     21\u001b[0m     \u001b[38;5;28mprint\u001b[39m(clock\u001b[38;5;241m.\u001b[39mshow())\n\u001b[1;32m---> 22\u001b[0m     \u001b[43msleep\u001b[49m\u001b[43m(\u001b[49m\u001b[38;5;241;43m1\u001b[39;49m\u001b[43m)\u001b[49m  \u001b[38;5;66;03m#1秒执行一次执行\u001b[39;00m\n\u001b[0;32m     23\u001b[0m     clock\u001b[38;5;241m.\u001b[39mrun()\n",
      "\u001b[1;31mKeyboardInterrupt\u001b[0m: "
     ]
    }
   ],
   "source": [
    "class Clock():\n",
    "    def __init__(self,hour=0,minute=0,second=0):\n",
    "        self._hour = hour\n",
    "        self._minute = minute\n",
    "        self._second = second\n",
    "    def run(self):\n",
    "        self._second += 1\n",
    "        if self._second == 60:\n",
    "            self._minute += 1\n",
    "            self.second = 0\n",
    "            if self._minute == 60:\n",
    "                self._hour += 1\n",
    "                self._minute = 0\n",
    "                if self._hour == 24:\n",
    "                    self._hour = 0\n",
    "    def show(self):\n",
    "        return '%02d:%02d:%02d'%(self._hour,self._minute,self._second)\n",
    "def min():\n",
    "    clock = Clock(22,34,45)\n",
    "    while True:\n",
    "        print(clock.show())\n",
    "        sleep(1)  #1秒执行一次执行\n",
    "        clock.run()\n",
    "min()"
   ]
  },
  {
   "cell_type": "markdown",
   "id": "1ab0bc02",
   "metadata": {},
   "source": [
    "# 类的封装"
   ]
  },
  {
   "cell_type": "code",
   "execution_count": 58,
   "id": "87786c7b",
   "metadata": {},
   "outputs": [
    {
     "data": {
      "text/plain": [
       "'小黑'"
      ]
     },
     "execution_count": 58,
     "metadata": {},
     "output_type": "execute_result"
    }
   ],
   "source": [
    "class Dog :\n",
    "    def __init__(self,name):\n",
    "        self.hidd_name = name\n",
    "    def get_name(self):\n",
    "        return self.hidd_name\n",
    "    def set_name(self,name):\n",
    "        self.hidd_name = name\n",
    "d = Dog('小黑')\n",
    "d.get_name()#    封装后使用get方法获取属性"
   ]
  },
  {
   "cell_type": "markdown",
   "id": "88fa3218",
   "metadata": {},
   "source": [
    "@property装饰器"
   ]
  },
  {
   "cell_type": "code",
   "execution_count": 68,
   "id": "92bcee5f",
   "metadata": {},
   "outputs": [
    {
     "data": {
      "text/plain": [
       "'欧文'"
      ]
     },
     "execution_count": 68,
     "metadata": {},
     "output_type": "execute_result"
    }
   ],
   "source": [
    "class Person:\n",
    "    def __init__(self,name,age):\n",
    "        self.a_name = name          #初始化，附上属性,封装\n",
    "        self.a_age = age\n",
    "    @property\n",
    "    def get_name(self):\n",
    "        return self.a_name\n",
    "    @property  #通过get方法访问\n",
    "    def get_age(self):\n",
    "        return self.a_age\n",
    "    def age(self,age):\n",
    "        self.a_age = age\n",
    "p1 = Person('欧文',31)\n",
    "p1.get_name"
   ]
  },
  {
   "cell_type": "code",
   "execution_count": 69,
   "id": "af4ad01c",
   "metadata": {},
   "outputs": [
    {
     "data": {
      "text/plain": [
       "35"
      ]
     },
     "execution_count": 69,
     "metadata": {},
     "output_type": "execute_result"
    }
   ],
   "source": [
    "#封装后无法修改通过p1.age取修改初始化的年纪，使用了是加入了新属性。要想修改使用setter方法，调用age函数\n",
    "p1.age(35)\n",
    "p1.get_age"
   ]
  },
  {
   "cell_type": "markdown",
   "id": "d1068052",
   "metadata": {},
   "source": [
    "__slots__魔法"
   ]
  },
  {
   "cell_type": "code",
   "execution_count": 80,
   "id": "7e0e66e3",
   "metadata": {},
   "outputs": [
    {
     "ename": "AttributeError",
     "evalue": "'Person' object has no attribute 'hobby'",
     "output_type": "error",
     "traceback": [
      "\u001b[1;31m---------------------------------------------------------------------------\u001b[0m",
      "\u001b[1;31mAttributeError\u001b[0m                            Traceback (most recent call last)",
      "Input \u001b[1;32mIn [80]\u001b[0m, in \u001b[0;36m<module>\u001b[1;34m\u001b[0m\n\u001b[0;32m     11\u001b[0m         \u001b[38;5;28mself\u001b[39m\u001b[38;5;241m.\u001b[39mp_age \u001b[38;5;241m=\u001b[39m age\n\u001b[0;32m     13\u001b[0m w \u001b[38;5;241m=\u001b[39m Person(\u001b[38;5;124m'\u001b[39m\u001b[38;5;124m小喻\u001b[39m\u001b[38;5;124m'\u001b[39m,\u001b[38;5;241m22\u001b[39m)\n\u001b[1;32m---> 14\u001b[0m w\u001b[38;5;241m.\u001b[39mhobby \u001b[38;5;241m=\u001b[39m \u001b[38;5;124m'\u001b[39m\u001b[38;5;124m吃火锅\u001b[39m\u001b[38;5;124m'\u001b[39m\n",
      "\u001b[1;31mAttributeError\u001b[0m: 'Person' object has no attribute 'hobby'"
     ]
    }
   ],
   "source": [
    "class Person:\n",
    "    __slots__=('p_name','p_age')   #限定自定义类型的对象只能绑定某些属性，可以通过在类中定义__slots__变量来进行限定。、\n",
    "    def __init__(self,name,age):\n",
    "        self.p_name = name\n",
    "        self.p_age = age\n",
    "    def get_name(self):\n",
    "        return self.p_name\n",
    "    def get_age(self):\n",
    "        return self.p_age\n",
    "    def set_age(self,age):\n",
    "        self.p_age = age\n",
    "        \n",
    "w = Person('小喻',22)\n",
    "w.hobby = '吃火锅'   #这时候无法添加属性进类里面"
   ]
  },
  {
   "cell_type": "markdown",
   "id": "1f04061e",
   "metadata": {},
   "source": [
    "列表转化为字符串"
   ]
  },
  {
   "cell_type": "markdown",
   "id": "9ec76f7b",
   "metadata": {},
   "source": [
    "a = list('scfscv')\n",
    "a"
   ]
  },
  {
   "cell_type": "code",
   "execution_count": 86,
   "id": "f85ec55e",
   "metadata": {},
   "outputs": [
    {
     "data": {
      "text/plain": [
       "'scfscv'"
      ]
     },
     "execution_count": 86,
     "metadata": {},
     "output_type": "execute_result"
    }
   ],
   "source": [
    "''.join(a)  #将列表转成字符串   字符串创建方式 '' ，字符串jion方法:\n",
    "#迭代对象a（如列表）使用字符串作为链接将迭代对象中的元素拼接成一个字符串，返回该字符串"
   ]
  },
  {
   "cell_type": "markdown",
   "id": "529f5c87",
   "metadata": {},
   "source": [
    "递归"
   ]
  },
  {
   "cell_type": "code",
   "execution_count": 98,
   "id": "8a0e6868",
   "metadata": {},
   "outputs": [
    {
     "name": "stdout",
     "output_type": "stream",
     "text": [
      "3628800\n"
     ]
    }
   ],
   "source": [
    "n = 10\n",
    "for i in range(1,n):\n",
    "    n*=i\n",
    "print(n)"
   ]
  },
  {
   "cell_type": "code",
   "execution_count": 102,
   "id": "41e4a916",
   "metadata": {},
   "outputs": [
    {
     "name": "stdout",
     "output_type": "stream",
     "text": [
      "3628800\n"
     ]
    }
   ],
   "source": [
    "#创建一个函数，可以用来求任意的阶乘\n",
    "def factorial(n):\n",
    "    for i in range(1,n):\n",
    "        n*= i\n",
    "    print(n)\n",
    "factorial(10)"
   ]
  },
  {
   "cell_type": "markdown",
   "id": "9d45e6ba",
   "metadata": {},
   "source": [
    "生成式（推导式）"
   ]
  },
  {
   "cell_type": "code",
   "execution_count": 103,
   "id": "0bc53f1a",
   "metadata": {},
   "outputs": [
    {
     "data": {
      "text/plain": [
       "{'AAPL': 191.88, 'GOOG': 1186.96, 'IBM': 149.24, 'ACN': 166.89, 'FB': 208.09}"
      ]
     },
     "execution_count": 103,
     "metadata": {},
     "output_type": "execute_result"
    }
   ],
   "source": [
    "\n",
    "prices = {\n",
    "    'AAPL': 191.88,\n",
    "    'GOOG': 1186.96,\n",
    "    'IBM': 149.24,\n",
    "    'ORCL': 48.44,\n",
    "    'ACN': 166.89,\n",
    "    'FB': 208.09,\n",
    "    'SYMC': 21.29}\n",
    "p2 = {key:value for key,value in prices.items() if value >100} #生成式（推导式）可以用来生成列表、集合和字典。\n",
    "p2"
   ]
  },
  {
   "cell_type": "code",
   "execution_count": 104,
   "id": "3a96c611",
   "metadata": {},
   "outputs": [
    {
     "data": {
      "text/plain": [
       "[6, 7, 7]"
      ]
     },
     "execution_count": 104,
     "metadata": {},
     "output_type": "execute_result"
    }
   ],
   "source": [
    "list1 = [1,2,5,4,6,7,4,2,5,7,4,2,]\n",
    "p2 = [value for value in list1 if value > 5]\n",
    "p2"
   ]
  },
  {
   "cell_type": "code",
   "execution_count": null,
   "id": "e920bc41",
   "metadata": {},
   "outputs": [],
   "source": []
  }
 ],
 "metadata": {
  "kernelspec": {
   "display_name": "Python 3 (ipykernel)",
   "language": "python",
   "name": "python3"
  },
  "language_info": {
   "codemirror_mode": {
    "name": "ipython",
    "version": 3
   },
   "file_extension": ".py",
   "mimetype": "text/x-python",
   "name": "python",
   "nbconvert_exporter": "python",
   "pygments_lexer": "ipython3",
   "version": "3.10.1"
  }
 },
 "nbformat": 4,
 "nbformat_minor": 5
}
